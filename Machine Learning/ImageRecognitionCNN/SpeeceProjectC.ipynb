{
 "cells": [
  {
   "cell_type": "code",
   "execution_count": 14,
   "metadata": {},
   "outputs": [],
   "source": [
    "#this will use the GPU if you have it enabled to work with TensorFlow\n",
    "import os\n",
    "os.environ['CUDA_VISIBLE_DEVICES'] = '0'\n",
    "\n",
    "from keras.preprocessing.image import ImageDataGenerator\n",
    "from keras.models import Sequential\n",
    "from keras.layers import Conv2D\n",
    "from keras.layers import Flatten\n",
    "from keras.layers import Dense\n",
    "from keras.layers import MaxPooling2D\n",
    "from keras.layers import Dropout\n",
    "import matplotlib.pyplot as plt\n",
    "\n",
    "\n",
    "# \n",
    "from sklearn.metrics import confusion_matrix\n",
    "import itertools\n",
    "\n",
    "from keras.utils.np_utils import to_categorical # convert to one-hot-encoding\n",
    "from keras.optimizers import RMSprop,Adam\n",
    "from keras.callbacks import ReduceLROnPlateau"
   ]
  },
  {
   "cell_type": "code",
   "execution_count": 15,
   "metadata": {},
   "outputs": [],
   "source": [
    "import matplotlib.pyplot as plt\n",
    "%matplotlib inline\n",
    "from sklearn.model_selection import train_test_split\n",
    "from sklearn.datasets import fetch_lfw_people\n",
    "from sklearn.metrics import accuracy_score\n",
    "from sklearn.svm import SVC\n",
    "import numpy\n",
    "\n",
    "from sklearn.decomposition import PCA"
   ]
  },
  {
   "cell_type": "code",
   "execution_count": null,
   "metadata": {},
   "outputs": [],
   "source": []
  },
  {
   "cell_type": "code",
   "execution_count": 11,
   "metadata": {},
   "outputs": [],
   "source": [
    "# dimensions of our images.\n",
    "img_width, img_height = 150, 150\n",
    "\n",
    "#the directories where our train and test data is\n",
    "train_data_dir = 'woodroad/train'\n",
    "validation_data_dir = 'woodroad/test'\n",
    "\n",
    "#we will feed the training images to the neural network\n",
    "#in batches of 32 images at a time so we don't have \n",
    "#to load the entire data set into memory\n",
    "batch_size = 32\n",
    "number_train_examples = 5829\n",
    "number_validation_examples = 528\n",
    "#not 20% data came like this\n"
   ]
  },
  {
   "cell_type": "code",
   "execution_count": null,
   "metadata": {},
   "outputs": [],
   "source": []
  },
  {
   "cell_type": "code",
   "execution_count": 12,
   "metadata": {},
   "outputs": [
    {
     "name": "stdout",
     "output_type": "stream",
     "text": [
      "Found 5829 images belonging to 2 classes.\n",
      "Found 528 images belonging to 2 classes.\n"
     ]
    }
   ],
   "source": [
    "# used to rescale the pixel values from [0, 255] to between 0 and 1\n",
    "datagen = ImageDataGenerator(rescale=1./255)\n",
    "\n",
    "#These will look for our training and testing data\n",
    "#in their respective directory, and it will figure out\n",
    "#the class of each example based on the subfolder it is in\n",
    "train_generator = datagen.flow_from_directory(\n",
    "        train_data_dir,\n",
    "        target_size=(img_width, img_height),\n",
    "        batch_size=batch_size,\n",
    "        class_mode='binary')\n",
    "\n",
    "validation_generator = datagen.flow_from_directory(\n",
    "        validation_data_dir,\n",
    "        target_size=(img_width, img_height),\n",
    "        batch_size=batch_size,\n",
    "        class_mode='binary')"
   ]
  },
  {
   "cell_type": "markdown",
   "metadata": {},
   "source": [
    "# Model 1"
   ]
  },
  {
   "cell_type": "code",
   "execution_count": null,
   "metadata": {},
   "outputs": [],
   "source": [
    "# Model 1\n",
    "\n",
    "model3 = Sequential()\n",
    "model3.add(Conv2D(32, (3, 3), activation = 'relu', input_shape=(img_width, img_height, 3)))\n",
    "model3.add(MaxPooling2D(pool_size=(2, 2)))\n",
    "\n",
    "model3.add(Conv2D(32, (3, 3),activation = 'relu'))\n",
    "model3.add(MaxPooling2D(pool_size=(2, 2)))\n",
    "\n",
    "model3.add(Conv2D(64, (3, 3),activation = 'relu'))\n",
    "model3.add(MaxPooling2D(pool_size=(2, 2)))\n",
    "\n",
    "model3.add(Flatten())\n",
    "model3.add(Dense(64,activation = 'relu'))\n",
    "model3.add(Dropout(0.5))\n",
    "model3.add(Dense(1,activation='sigmoid'))\n",
    "\n",
    "\n",
    "model3.compile(loss='binary_crossentropy',\n",
    "                optimizer='rmsprop',\n",
    "                metrics=['accuracy'])"
   ]
  },
  {
   "cell_type": "code",
   "execution_count": null,
   "metadata": {},
   "outputs": [],
   "source": []
  },
  {
   "cell_type": "markdown",
   "metadata": {},
   "source": [
    "# Test 1st model"
   ]
  },
  {
   "cell_type": "code",
   "execution_count": 52,
   "metadata": {},
   "outputs": [
    {
     "name": "stdout",
     "output_type": "stream",
     "text": [
      "Epoch 1/10\n",
      "182/182 [==============================] - 95s 523ms/step - loss: 0.1407 - acc: 0.9701 - val_loss: 0.7487 - val_acc: 0.8347\n",
      "Epoch 2/10\n",
      "182/182 [==============================] - 91s 498ms/step - loss: 0.0439 - acc: 0.9938 - val_loss: 6.0012e-04 - val_acc: 1.0000\n",
      "Epoch 3/10\n",
      "182/182 [==============================] - 91s 498ms/step - loss: 0.0280 - acc: 0.9950 - val_loss: 2.2307e-06 - val_acc: 1.0000\n",
      "Epoch 4/10\n",
      "182/182 [==============================] - 91s 498ms/step - loss: 0.0344 - acc: 0.9945 - val_loss: 1.1152e-04 - val_acc: 1.0000\n",
      "Epoch 5/10\n",
      "182/182 [==============================] - 91s 498ms/step - loss: 0.0648 - acc: 0.9924 - val_loss: 4.5905e-05 - val_acc: 1.0000\n",
      "Epoch 6/10\n",
      "182/182 [==============================] - 93s 509ms/step - loss: 0.0315 - acc: 0.9954 - val_loss: 0.0018 - val_acc: 0.9980\n",
      "Epoch 7/10\n",
      "182/182 [==============================] - 90s 494ms/step - loss: 0.0291 - acc: 0.9935 - val_loss: 1.1841e-07 - val_acc: 1.0000\n",
      "Epoch 8/10\n",
      "182/182 [==============================] - 90s 494ms/step - loss: 0.0248 - acc: 0.9979 - val_loss: 1.8327e-07 - val_acc: 1.0000\n",
      "Epoch 9/10\n",
      "182/182 [==============================] - 90s 496ms/step - loss: 0.0398 - acc: 0.9962 - val_loss: 0.1149 - val_acc: 0.9778\n",
      "Epoch 10/10\n",
      "182/182 [==============================] - 101s 554ms/step - loss: 0.0245 - acc: 0.9979 - val_loss: 1.0922e-05 - val_acc: 1.0000\n"
     ]
    }
   ],
   "source": [
    "#train the 1st model\n",
    "training_results3 = model3.fit_generator(\n",
    "    train_generator,\n",
    "    steps_per_epoch=number_train_examples // batch_size,\n",
    "    epochs=10,\n",
    "    validation_data=validation_generator,\n",
    "    validation_steps=number_validation_examples // batch_size)"
   ]
  },
  {
   "cell_type": "code",
   "execution_count": 53,
   "metadata": {
    "scrolled": true
   },
   "outputs": [
    {
     "data": {
      "image/png": "[encoded data removed]",
      "text/plain": [
       "<Figure size 432x288 with 1 Axes>"
      ]
     },
     "metadata": {},
     "output_type": "display_data"
    }
   ],
   "source": [
    "#visualize the results of the second model\n",
    "plt.plot(training_results3.history['acc'])\n",
    "plt.plot(training_results3.history['val_acc'])\n",
    "plt.title('model accuracy')\n",
    "plt.ylabel('accuracy')\n",
    "plt.xlabel('epoch')\n",
    "plt.legend(['train', 'test'], loc='upper left')\n",
    "plt.show()"
   ]
  },
  {
   "cell_type": "code",
   "execution_count": 55,
   "metadata": {},
   "outputs": [],
   "source": [
    "#let's save these weights so we can reload them later\n",
    "model3.save_weights('roadvegatation_model_10_epochs.h5')"
   ]
  },
  {
   "cell_type": "code",
   "execution_count": 62,
   "metadata": {
    "scrolled": true
   },
   "outputs": [
    {
     "data": {
      "image/png": "[encoded data removed]",
      "text/plain": [
       "<Figure size 432x288 with 1 Axes>"
      ]
     },
     "metadata": {},
     "output_type": "display_data"
    }
   ],
   "source": [
    "# Plot the loss and accuracy curves for training and validation \n",
    "plt.plot(training_results3.history['val_loss'], color='b', label=\"validation loss\")\n",
    "plt.title(\"Test Loss\")\n",
    "plt.xlabel(\"Number of Epochs\")\n",
    "plt.ylabel(\"Loss\")\n",
    "plt.legend()\n",
    "plt.show()"
   ]
  },
  {
   "cell_type": "markdown",
   "metadata": {},
   "source": [
    "# Model 2"
   ]
  },
  {
   "cell_type": "code",
   "execution_count": 11,
   "metadata": {},
   "outputs": [],
   "source": [
    "# Model 2\n",
    "\n",
    "\n",
    "#All filters changed to 64\n",
    "#pools changed to 4,4\n",
    "model32= Sequential()\n",
    "model32.add(Conv2D(64, (3, 3), activation = 'relu', input_shape=(img_width, img_height, 3)))\n",
    "model32.add(MaxPooling2D(pool_size=(4, 4)))\n",
    "\n",
    "model32.add(Conv2D(64, (3, 3),activation = 'relu'))\n",
    "model32.add(MaxPooling2D(pool_size=(4, 4)))\n",
    "\n",
    "model32.add(Conv2D(64, (3, 3),activation = 'relu'))\n",
    "model32.add(MaxPooling2D(pool_size=(4, 4)))\n",
    "\n",
    "#4 layers did not work\n",
    "#without removing the layer there was error\n",
    "\n",
    "\n",
    "model32.add(Flatten())\n",
    "#dense kernel size changed to 64\n",
    "model32.add(Dense(64,activation = 'relu'))\n",
    "model32.add(Dropout(0.5))\n",
    "model32.add(Dense(1,activation='sigmoid'))\n",
    "\n",
    "\n",
    "model32.compile(loss='binary_crossentropy',\n",
    "                optimizer='rmsprop',\n",
    "                metrics=['accuracy'])"
   ]
  },
  {
   "cell_type": "markdown",
   "metadata": {},
   "source": [
    "# Test Model 2 "
   ]
  },
  {
   "cell_type": "code",
   "execution_count": 15,
   "metadata": {},
   "outputs": [
    {
     "name": "stdout",
     "output_type": "stream",
     "text": [
      "Epoch 1/15\n",
      "182/182 [==============================] - 73s 402ms/step - loss: 0.0156 - acc: 0.9974 - val_loss: 1.2429e-04 - val_acc: 1.0000\n",
      "Epoch 2/15\n",
      "182/182 [==============================] - 69s 380ms/step - loss: 0.0176 - acc: 0.9944 - val_loss: 0.0100 - val_acc: 0.9980\n",
      "Epoch 3/15\n",
      "182/182 [==============================] - 72s 397ms/step - loss: 0.0295 - acc: 0.9961 - val_loss: 0.0048 - val_acc: 0.9980\n",
      "Epoch 4/15\n",
      "182/182 [==============================] - 73s 401ms/step - loss: 0.0057 - acc: 0.9995 - val_loss: 0.6602 - val_acc: 0.9194\n",
      "Epoch 5/15\n",
      "182/182 [==============================] - 73s 401ms/step - loss: 0.0284 - acc: 0.9961 - val_loss: 0.0173 - val_acc: 0.9980\n",
      "Epoch 6/15\n",
      "182/182 [==============================] - 73s 403ms/step - loss: 0.0031 - acc: 0.9993 - val_loss: 0.0321 - val_acc: 0.9980\n",
      "Epoch 7/15\n",
      "182/182 [==============================] - 72s 395ms/step - loss: 0.0180 - acc: 0.9974 - val_loss: 2.7271e-04 - val_acc: 1.0000\n",
      "Epoch 8/15\n",
      "182/182 [==============================] - 75s 414ms/step - loss: 0.0231 - acc: 0.9966 - val_loss: 1.1603e-07 - val_acc: 1.0000\n",
      "Epoch 9/15\n",
      "182/182 [==============================] - 78s 427ms/step - loss: 0.0247 - acc: 0.9974 - val_loss: 0.0243 - val_acc: 0.9960\n",
      "Epoch 10/15\n",
      "182/182 [==============================] - 74s 408ms/step - loss: 0.0187 - acc: 0.9976 - val_loss: 0.0168 - val_acc: 0.9980\n",
      "Epoch 11/15\n",
      "182/182 [==============================] - 72s 398ms/step - loss: 0.0083 - acc: 0.9991 - val_loss: 1.8570e-07 - val_acc: 1.0000\n",
      "Epoch 12/15\n",
      "182/182 [==============================] - 72s 397ms/step - loss: 0.0119 - acc: 0.9986 - val_loss: 0.0643 - val_acc: 0.9960\n",
      "Epoch 13/15\n",
      "182/182 [==============================] - 73s 401ms/step - loss: 0.0115 - acc: 0.9981 - val_loss: 0.0321 - val_acc: 0.9980\n",
      "Epoch 14/15\n",
      "182/182 [==============================] - 81s 445ms/step - loss: 0.0555 - acc: 0.9961 - val_loss: 3.4495e-06 - val_acc: 1.0000\n",
      "Epoch 15/15\n",
      "182/182 [==============================] - 72s 398ms/step - loss: 0.0127 - acc: 0.9986 - val_loss: 1.2243e-07 - val_acc: 1.0000\n"
     ]
    }
   ],
   "source": [
    "#number of epochs increased to 15\n",
    "\n",
    "training_results32 = model32.fit_generator(\n",
    "    train_generator,\n",
    "    steps_per_epoch=number_train_examples // batch_size,\n",
    "    epochs=15,\n",
    "    validation_data=validation_generator,\n",
    "    validation_steps=number_validation_examples // batch_size)\n"
   ]
  },
  {
   "cell_type": "code",
   "execution_count": 17,
   "metadata": {},
   "outputs": [
    {
     "data": {
      "image/png": "[encoded data removed]",
      "text/plain": [
       "<Figure size 432x288 with 1 Axes>"
      ]
     },
     "metadata": {},
     "output_type": "display_data"
    }
   ],
   "source": [
    "#visualize the results of the second model\n",
    "plt.plot(training_results32.history['acc'])\n",
    "plt.plot(training_results32.history['val_acc'])\n",
    "plt.title('model accuracy')\n",
    "plt.ylabel('accuracy')\n",
    "plt.xlabel('epoch')\n",
    "plt.legend(['train', 'test'], loc='upper left')\n",
    "plt.show()\n",
    "\n",
    "#epoch 4 has a dip."
   ]
  },
  {
   "cell_type": "markdown",
   "metadata": {},
   "source": [
    "# Model 3"
   ]
  },
  {
   "cell_type": "code",
   "execution_count": 16,
   "metadata": {},
   "outputs": [],
   "source": [
    "from keras.layers import GaussianNoise\n",
    "\n",
    "model33= Sequential()\n",
    "model33.add(Conv2D(64, (3, 3), activation = 'relu', input_shape=(img_width, img_height, 3)))\n",
    "model33.add(MaxPooling2D(pool_size=(4, 4)))\n",
    "\n",
    "model33.add(Conv2D(64, (3, 3),activation = 'relu'))\n",
    "model33.add(MaxPooling2D(pool_size=(4, 4)))\n",
    "\n",
    "model33.add(Conv2D(64, (3, 3),activation = 'relu'))\n",
    "model33.add(MaxPooling2D(pool_size=(4, 4)))\n",
    "\n",
    "#one layer removed\n",
    "#without removing the layer there was error\n",
    "\n",
    "\n",
    "model33.add(Flatten())\n",
    "#dense kernel size changed to 64\n",
    "model33.add(GaussianNoise(.05))\n",
    "model33.add(Dense(64,activation = 'relu'))\n",
    "model33.add(Dropout(0.5))\n",
    "model33.add(Dense(1,activation='sigmoid'))\n",
    "\n",
    "\n",
    "model33.compile(loss='binary_crossentropy',\n",
    "                optimizer='rmsprop',\n",
    "                metrics=['accuracy'])\n"
   ]
  },
  {
   "cell_type": "markdown",
   "metadata": {},
   "source": [
    "# Train Model 3"
   ]
  },
  {
   "cell_type": "code",
   "execution_count": 18,
   "metadata": {},
   "outputs": [
    {
     "name": "stdout",
     "output_type": "stream",
     "text": [
      "Epoch 1/20\n",
      "182/182 [==============================] - 72s 397ms/step - loss: 0.0580 - acc: 0.9864 - val_loss: 0.0172 - val_acc: 0.9960\n",
      "Epoch 2/20\n",
      "182/182 [==============================] - 72s 397ms/step - loss: 0.0473 - acc: 0.9916 - val_loss: 5.8944e-04 - val_acc: 1.0000\n",
      "Epoch 3/20\n",
      "182/182 [==============================] - 72s 396ms/step - loss: 0.0670 - acc: 0.9918 - val_loss: 0.0100 - val_acc: 0.9980\n",
      "Epoch 4/20\n",
      "182/182 [==============================] - 71s 392ms/step - loss: 0.0401 - acc: 0.9912 - val_loss: 0.0061 - val_acc: 0.9980\n",
      "Epoch 5/20\n",
      "182/182 [==============================] - 87s 478ms/step - loss: 0.0223 - acc: 0.9962 - val_loss: 0.0137 - val_acc: 0.9980\n",
      "Epoch 6/20\n",
      "182/182 [==============================] - 75s 412ms/step - loss: 0.0183 - acc: 0.9952 - val_loss: 2.9359e-04 - val_acc: 1.0000\n",
      "Epoch 7/20\n",
      "182/182 [==============================] - 70s 387ms/step - loss: 0.0330 - acc: 0.9959 - val_loss: 5.2082e-06 - val_acc: 1.0000\n",
      "Epoch 8/20\n",
      "182/182 [==============================] - 126s 691ms/step - loss: 0.0245 - acc: 0.9954 - val_loss: 0.0224 - val_acc: 0.9980\n",
      "Epoch 9/20\n",
      "182/182 [==============================] - 81s 442ms/step - loss: 0.0109 - acc: 0.9978 - val_loss: 0.0030 - val_acc: 0.9980\n",
      "Epoch 10/20\n",
      "182/182 [==============================] - 73s 401ms/step - loss: 0.0277 - acc: 0.9957 - val_loss: 0.0036 - val_acc: 0.9980\n",
      "Epoch 11/20\n",
      "182/182 [==============================] - 74s 407ms/step - loss: 0.0268 - acc: 0.9966 - val_loss: 0.0010 - val_acc: 1.0000\n",
      "Epoch 12/20\n",
      "182/182 [==============================] - 73s 399ms/step - loss: 0.0240 - acc: 0.9974 - val_loss: 0.0013 - val_acc: 1.0000\n",
      "Epoch 13/20\n",
      "182/182 [==============================] - 74s 405ms/step - loss: 0.0269 - acc: 0.9966 - val_loss: 0.0139 - val_acc: 0.9980\n",
      "Epoch 14/20\n",
      "182/182 [==============================] - 73s 398ms/step - loss: 0.0287 - acc: 0.9966 - val_loss: 0.0080 - val_acc: 0.9980\n",
      "Epoch 15/20\n",
      "182/182 [==============================] - 81s 444ms/step - loss: 0.0161 - acc: 0.9986 - val_loss: 1.9319e-06 - val_acc: 1.0000\n",
      "Epoch 16/20\n",
      "182/182 [==============================] - 78s 427ms/step - loss: 0.0287 - acc: 0.9964 - val_loss: 1.0591e-04 - val_acc: 1.0000\n",
      "Epoch 17/20\n",
      "182/182 [==============================] - 76s 420ms/step - loss: 0.0145 - acc: 0.9986 - val_loss: 0.0321 - val_acc: 0.9980\n",
      "Epoch 18/20\n",
      "182/182 [==============================] - 77s 422ms/step - loss: 0.0289 - acc: 0.9943 - val_loss: 0.0390 - val_acc: 0.9899\n",
      "Epoch 19/20\n",
      "182/182 [==============================] - 73s 399ms/step - loss: 0.0150 - acc: 0.9978 - val_loss: 3.2351e-05 - val_acc: 1.0000\n",
      "Epoch 20/20\n",
      "182/182 [==============================] - 74s 405ms/step - loss: 0.0131 - acc: 0.9988 - val_loss: 6.5146e-04 - val_acc: 1.0000\n"
     ]
    }
   ],
   "source": [
    "\n",
    "training_results33 = model33.fit_generator(\n",
    "    train_generator,\n",
    "    steps_per_epoch=number_train_examples // batch_size,\n",
    "    epochs=20,\n",
    "    validation_data=validation_generator,\n",
    "    validation_steps=number_validation_examples // batch_size)"
   ]
  },
  {
   "cell_type": "code",
   "execution_count": 19,
   "metadata": {},
   "outputs": [
    {
     "data": {
      "image/png": "[encoded data removed]",
      "text/plain": [
       "<Figure size 432x288 with 1 Axes>"
      ]
     },
     "metadata": {},
     "output_type": "display_data"
    }
   ],
   "source": [
    "#visualize the results of the second model\n",
    "plt.plot(training_results33.history['acc'])\n",
    "plt.plot(training_results33.history['val_acc'])\n",
    "plt.title('model accuracy')\n",
    "plt.ylabel('accuracy')\n",
    "plt.xlabel('epoch')\n",
    "plt.legend(['train', 'test'], loc='upper left')\n",
    "plt.show()\n",
    "\n",
    "#looks like accuracy varies more but axis are smaller\n"
   ]
  },
  {
   "cell_type": "code",
   "execution_count": null,
   "metadata": {},
   "outputs": [],
   "source": []
  },
  {
   "cell_type": "code",
   "execution_count": null,
   "metadata": {},
   "outputs": [],
   "source": [
    "#setting up a sequential model with 2 convolutional layers, each with 32 feature maps\n",
    "#from regions that are 3x3 in the image\n",
    "model = Sequential()\n",
    "model.add(Conv2D(32, (3, 3), activation = 'relu', input_shape=(img_width, img_height, 3)))\n",
    "model.add(Conv2D(32, (3, 3), activation = 'relu'))\n",
    "model.add(Conv2D(32, (3, 3), activation = 'relu'))\n",
    "model.add(Flatten()) #flattens the convolutional layer so it can go into a fully-connected layer\n",
    "model.add(Dense(32)) #fully-connected layer\n",
    "model.add(Dense(1,activation='sigmoid'))"
   ]
  },
  {
   "cell_type": "code",
   "execution_count": 43,
   "metadata": {},
   "outputs": [],
   "source": [
    "#you need to compile the model before you can use it\n",
    "model.compile(loss='binary_crossentropy',\n",
    "              optimizer='rmsprop',\n",
    "              metrics=['accuracy'])"
   ]
  },
  {
   "cell_type": "code",
   "execution_count": 46,
   "metadata": {},
   "outputs": [
    {
     "data": {
      "image/png": "[encoded data removed]",
      "text/plain": [
       "<Figure size 432x288 with 1 Axes>"
      ]
     },
     "metadata": {},
     "output_type": "display_data"
    }
   ],
   "source": [
    "#using the results returned by the training history to visualize\n",
    "#accuracy on the training and testing sets for each epoch\n",
    "plt.plot(training_results.history['acc'])\n",
    "plt.plot(training_results.history['val_acc'])\n",
    "plt.title('model accuracy')\n",
    "plt.ylabel('accuracy')\n",
    "plt.xlabel('epoch')\n",
    "plt.legend(['train', 'test'], loc='upper left')\n",
    "plt.show()"
   ]
  },
  {
   "cell_type": "code",
   "execution_count": 45,
   "metadata": {},
   "outputs": [
    {
     "name": "stdout",
     "output_type": "stream",
     "text": [
      "Epoch 1/3\n",
      "182/182 [==============================] - 257s 1s/step - loss: 3.8680 - acc: 0.7574 - val_loss: 2.6035 - val_acc: 0.8367\n",
      "Epoch 2/3\n",
      "182/182 [==============================] - 256s 1s/step - loss: 3.7978 - acc: 0.7618 - val_loss: 2.5714 - val_acc: 0.8387\n",
      "Epoch 3/3\n",
      "182/182 [==============================] - 254s 1s/step - loss: 3.7769 - acc: 0.7631 - val_loss: 2.8285 - val_acc: 0.8226\n"
     ]
    }
   ],
   "source": [
    "#playing with code from class\n",
    "#This will actually train the model.\n",
    "#You will want to change the epochs to something small enough to run on your computer.\n",
    "#Maybe 3 to 10 if you do not have a GPU doing the work.\n",
    "training_results = model.fit_generator(\n",
    "        train_generator, #training set\n",
    "        steps_per_epoch=number_train_examples // batch_size, \n",
    "        epochs=3, #number of epochs \n",
    "        validation_data=validation_generator, #testing set\n",
    "        validation_steps=number_validation_examples // batch_size \n",
    "        )"
   ]
  },
  {
   "cell_type": "code",
   "execution_count": 47,
   "metadata": {},
   "outputs": [],
   "source": [
    "model2 = Sequential()\n",
    "model2.add(Conv2D(32, (3, 3), activation = 'relu', input_shape=(img_width, img_height, 3)))\n",
    "model2.add(MaxPooling2D(pool_size=(2, 2)))\n",
    "\n",
    "model2.add(Conv2D(32, (3, 3),activation = 'relu'))\n",
    "model2.add(MaxPooling2D(pool_size=(2, 2)))\n",
    "\n",
    "model2.add(Conv2D(64, (3, 3),activation = 'relu'))\n",
    "model2.add(MaxPooling2D(pool_size=(2, 2)))\n",
    "\n",
    "model2.add(Flatten())\n",
    "model2.add(Dense(64,activation = 'relu'))\n",
    "model2.add(Dense(1,activation='sigmoid'))\n",
    "\n",
    "\n",
    "model2.compile(loss='binary_crossentropy',\n",
    "                optimizer='rmsprop',\n",
    "                metrics=['accuracy'])"
   ]
  },
  {
   "cell_type": "code",
   "execution_count": 49,
   "metadata": {},
   "outputs": [
    {
     "data": {
      "image/png": "[encoded data removed]",
      "text/plain": [
       "<Figure size 432x288 with 1 Axes>"
      ]
     },
     "metadata": {},
     "output_type": "display_data"
    }
   ],
   "source": [
    "\n",
    "plt.plot(training_results2.history['acc'])\n",
    "plt.plot(training_results2.history['val_acc'])\n",
    "plt.title('model accuracy')\n",
    "plt.ylabel('accuracy')\n",
    "plt.xlabel('epoch')\n",
    "plt.legend(['train', 'test'], loc='upper left')\n",
    "plt.show()"
   ]
  },
  {
   "cell_type": "code",
   "execution_count": 48,
   "metadata": {},
   "outputs": [
    {
     "name": "stdout",
     "output_type": "stream",
     "text": [
      "Epoch 1/10\n",
      "182/182 [==============================] - 94s 516ms/step - loss: 0.7146 - acc: 0.9330 - val_loss: 2.1366e-04 - val_acc: 1.0000\n",
      "Epoch 2/10\n",
      "182/182 [==============================] - 91s 501ms/step - loss: 0.1496 - acc: 0.9888 - val_loss: 3.9850e-05 - val_acc: 1.0000\n",
      "Epoch 3/10\n",
      "182/182 [==============================] - 91s 498ms/step - loss: 0.1111 - acc: 0.9897 - val_loss: 0.0083 - val_acc: 0.9980\n",
      "Epoch 4/10\n",
      "182/182 [==============================] - 92s 505ms/step - loss: 0.0449 - acc: 0.9947 - val_loss: 0.0082 - val_acc: 0.9980\n",
      "Epoch 5/10\n",
      "182/182 [==============================] - 92s 504ms/step - loss: 0.4267 - acc: 0.9710 - val_loss: 0.0046 - val_acc: 0.9980\n",
      "Epoch 6/10\n",
      "182/182 [==============================] - 90s 492ms/step - loss: 0.2771 - acc: 0.9794 - val_loss: 6.0081e-05 - val_acc: 1.0000\n",
      "Epoch 7/10\n",
      "182/182 [==============================] - 90s 495ms/step - loss: 0.0149 - acc: 0.9974 - val_loss: 0.0171 - val_acc: 0.9980\n",
      "Epoch 8/10\n",
      "182/182 [==============================] - 90s 496ms/step - loss: 0.0140 - acc: 0.9969 - val_loss: 5.6095e-04 - val_acc: 1.0000\n",
      "Epoch 9/10\n",
      "182/182 [==============================] - 90s 497ms/step - loss: 0.0386 - acc: 0.9964 - val_loss: 1.9916e-06 - val_acc: 1.0000\n",
      "Epoch 10/10\n",
      "182/182 [==============================] - 90s 495ms/step - loss: 0.0204 - acc: 0.9981 - val_loss: 2.3932e-05 - val_acc: 1.0000\n"
     ]
    }
   ],
   "source": [
    "\n",
    "training_results2 = model2.fit_generator(\n",
    "    train_generator,\n",
    "    steps_per_epoch=number_train_examples // batch_size,\n",
    "    epochs=10,\n",
    "    validation_data=validation_generator,\n",
    "    validation_steps=number_validation_examples // batch_size)"
   ]
  }
 ],
 "metadata": {
  "kernelspec": {
   "display_name": "Python 3",
   "language": "python",
   "name": "python3"
  },
  "language_info": {
   "codemirror_mode": {
    "name": "ipython",
    "version": 3
   },
   "file_extension": ".py",
   "mimetype": "text/x-python",
   "name": "python",
   "nbconvert_exporter": "python",
   "pygments_lexer": "ipython3",
   "version": "3.6.8"
  }
 },
 "nbformat": 4,
 "nbformat_minor": 2
}
